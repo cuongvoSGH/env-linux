{
 "cells": [
  {
   "cell_type": "markdown",
   "metadata": {
    "editable": true,
    "slideshow": {
     "slide_type": ""
    },
    "tags": []
   },
   "source": [
    "# RETAIL DATASET ANALYSIS <br>\n",
    "<b>Author: CUONG VO <br>\n",
    "Student ID: 131116 </b>"
   ]
  },
  {
   "cell_type": "markdown",
   "metadata": {},
   "source": [
    "Technical Information: \n",
    "<b>\n",
    "- OS: WSL2 Ubuntu 22.04LTS\n",
    "- Spark: 3.5.0\n",
    "- Scala: 2.12.18\n",
    "- Java OpenJDK: 11.0.21 \n",
    "</b>"
   ]
  },
  {
   "cell_type": "markdown",
   "metadata": {},
   "source": [
    "### Library Import"
   ]
  },
  {
   "cell_type": "code",
   "execution_count": 1,
   "metadata": {},
   "outputs": [],
   "source": [
    "import pandas as pd \n",
    "import numpy as np\n",
    "import matplotlib.pyplot as plt"
   ]
  },
  {
   "cell_type": "markdown",
   "metadata": {},
   "source": [
    "### Create Spark Session"
   ]
  },
  {
   "cell_type": "code",
   "execution_count": 3,
   "metadata": {},
   "outputs": [],
   "source": [
    "from pyspark.sql import SparkSession\n",
    "from pyspark.sql.types import *\n",
    "\n",
    "spark = SparkSession.builder.appName('Retail Analysis').getOrCreate()\n",
    "sc = spark.sparkContext"
   ]
  },
  {
   "cell_type": "markdown",
   "metadata": {},
   "source": [
    "### Dataset import"
   ]
  },
  {
   "cell_type": "markdown",
   "metadata": {},
   "source": [
    "<b>Source:</b> https://archive.ics.uci.edu/dataset/502/online+retail+ii\n",
    "\n",
    "<b>Abstract:</b> This dataset captures essential details from online retail transactions, encompassing diverse aspects of the purchase process. This comprehensive dataset allows for the analysis of purchasing patterns, sales trends, and customer behavior across different countries. It provides a valuable resource for exploring various aspects of online retail operations, from product popularity to geographical sales distribution. The inclusion of detailed transaction information enables researchers and analysts to delve into the dynamics of the online retail business and derive insights that can inform strategic decisions."
   ]
  },
  {
   "cell_type": "code",
   "execution_count": 4,
   "metadata": {},
   "outputs": [],
   "source": [
    "retail_schema = StructType([\n",
    "  StructField('Invoice', StringType()),\n",
    "  StructField('StockCode', StringType()),\n",
    "  StructField('Description', StringType()),\n",
    "  StructField('Quantity', IntegerType()),\n",
    "  StructField('InvoiceDate', StringType()),\n",
    "  StructField('Price', FloatType()),\n",
    "  StructField('Customer ID', StringType()),\n",
    "  StructField('Country', StringType())\n",
    "])"
   ]
  },
  {
   "cell_type": "code",
   "execution_count": 5,
   "metadata": {},
   "outputs": [
    {
     "name": "stdout",
     "output_type": "stream",
     "text": [
      "+-------+---------+--------------------+--------+-------------+-----+-----------+--------------+\n",
      "|Invoice|StockCode|         Description|Quantity|  InvoiceDate|Price|Customer ID|       Country|\n",
      "+-------+---------+--------------------+--------+-------------+-----+-----------+--------------+\n",
      "| 489434|    85048|15CM CHRISTMAS GL...|      12|01-12-09 7:45| 6.95|    13085.0|United Kingdom|\n",
      "| 489434|   79323P|  PINK CHERRY LIGHTS|      12|01-12-09 7:45| 6.75|    13085.0|United Kingdom|\n",
      "| 489434|   79323W| WHITE CHERRY LIGHTS|      12|01-12-09 7:45| 6.75|    13085.0|United Kingdom|\n",
      "| 489434|    22041|\"RECORD FRAME 7\"\"...|      48|01-12-09 7:45|  2.1|    13085.0|United Kingdom|\n",
      "| 489434|    21232|STRAWBERRY CERAMI...|      24|01-12-09 7:45| 1.25|    13085.0|United Kingdom|\n",
      "| 489434|    22064|PINK DOUGHNUT TRI...|      24|01-12-09 7:45| 1.65|    13085.0|United Kingdom|\n",
      "| 489434|    21871| SAVE THE PLANET MUG|      24|01-12-09 7:45| 1.25|    13085.0|United Kingdom|\n",
      "| 489434|    21523|FANCY FONT HOME S...|      10|01-12-09 7:45| 5.95|    13085.0|United Kingdom|\n",
      "| 489435|    22350|           CAT BOWL |      12|01-12-09 7:46| 2.55|    13085.0|United Kingdom|\n",
      "| 489435|    22349|DOG BOWL , CHASIN...|      12|01-12-09 7:46| 3.75|    13085.0|United Kingdom|\n",
      "+-------+---------+--------------------+--------+-------------+-----+-----------+--------------+\n",
      "\n"
     ]
    }
   ],
   "source": [
    "file_location = \"./online_retail.csv\"\n",
    "file_type = \"csv\"\n",
    "\n",
    "infer_schema = \"true\"\n",
    "first_row_is_header = \"true\"\n",
    "delimiter = \",\"\n",
    "\n",
    "# The applied options are for CSV files. For other file types, these will be ignored.\n",
    "df = spark.read.format(file_type) \\\n",
    "  .option(\"inferSchema\", infer_schema) \\\n",
    "  .option(\"header\", first_row_is_header) \\\n",
    "  .option(\"sep\", delimiter) \\\n",
    "  .schema(retail_schema) \\\n",
    "  .load(file_location)\n",
    "\n",
    "df.limit(10).show()\n"
   ]
  },
  {
   "cell_type": "code",
   "execution_count": 6,
   "metadata": {},
   "outputs": [],
   "source": [
    "df.createOrReplaceTempView(\"Retail_data\")"
   ]
  },
  {
   "cell_type": "markdown",
   "metadata": {},
   "source": [
    "### Descriptive Analysis"
   ]
  },
  {
   "cell_type": "code",
   "execution_count": 7,
   "metadata": {},
   "outputs": [
    {
     "name": "stderr",
     "output_type": "stream",
     "text": [
      "[Stage 1:====>                                                    (1 + 11) / 12]\r"
     ]
    },
    {
     "name": "stdout",
     "output_type": "stream",
     "text": [
      "+-------+-----------+\n",
      "|Invoice|Total_Sales|\n",
      "+-------+-----------+\n",
      "| 489677|      192.0|\n",
      "|C491017|      -4.95|\n",
      "| 491045|      303.2|\n",
      "| 491658|     155.06|\n",
      "|C491705|      -22.5|\n",
      "|C492541|      -99.0|\n",
      "|C493168|     -177.6|\n",
      "| 493542|     118.75|\n",
      "| 493977|     275.95|\n",
      "|C493984|     -10.43|\n",
      "+-------+-----------+\n",
      "\n"
     ]
    },
    {
     "name": "stderr",
     "output_type": "stream",
     "text": [
      "                                                                                \r"
     ]
    }
   ],
   "source": [
    "from pyspark.sql.functions import *\n",
    "\n",
    "df = df.withColumn(\"Sales\", round(df.Quantity * df.Price,2) )\n",
    "df_customer = df.groupBy('Customer ID').agg(round(sum(\"Sales\"),2).alias(\"Total_Sales\"))\n",
    "df_customer.limit(10).show()"
   ]
  },
  {
   "cell_type": "code",
   "execution_count": 8,
   "metadata": {},
   "outputs": [
    {
     "name": "stderr",
     "output_type": "stream",
     "text": [
      "[Stage 4:====>                                                    (1 + 11) / 12]\r"
     ]
    },
    {
     "name": "stdout",
     "output_type": "stream",
     "text": [
      "+---------+-----------+--------------+---------+\n",
      "|StockCode|Total_Sales|Total_Quantity|Avg_Price|\n",
      "+---------+-----------+--------------+---------+\n",
      "|    21248|    1276.54|           938|     1.36|\n",
      "|    22121|    9488.68|          1484|     6.39|\n",
      "|    21889|   17442.57|         13077|     1.33|\n",
      "|    22254|    1718.46|          1339|     1.28|\n",
      "|   84899F|     192.17|            67|     2.87|\n",
      "|    21249|    4815.64|          1670|     2.88|\n",
      "|    21259|   14408.43|          2335|     6.17|\n",
      "|   90197B|     322.52|            64|     5.04|\n",
      "|    21894|    1886.22|          1312|     1.44|\n",
      "|    90022|      136.1|            36|     3.78|\n",
      "+---------+-----------+--------------+---------+\n",
      "\n"
     ]
    },
    {
     "name": "stderr",
     "output_type": "stream",
     "text": [
      "                                                                                \r"
     ]
    }
   ],
   "source": [
    "df_product = df.groupBy('StockCode').agg(\n",
    "    round(sum(\"Sales\"),2).alias(\"Total_Sales\")\n",
    "df_product.limit(10).show()"
   ]
  },
  {
   "cell_type": "code",
   "execution_count": 11,
   "metadata": {},
   "outputs": [
    {
     "data": {
      "text/plain": [
       "Invoice        0\n",
       "Total_Sales    0\n",
       "dtype: int64"
      ]
     },
     "execution_count": 11,
     "metadata": {},
     "output_type": "execute_result"
    }
   ],
   "source": [
    "df_temp = df_customer.toPandas()\n",
    "df_temp.isna().sum()"
   ]
  },
  {
   "cell_type": "code",
   "execution_count": 10,
   "metadata": {},
   "outputs": [
    {
     "data": {
      "text/plain": [
       "StockCode          0\n",
       "Total_Sales        0\n",
       "Total_Quantity     0\n",
       "Avg_Price         19\n",
       "dtype: int64"
      ]
     },
     "execution_count": 10,
     "metadata": {},
     "output_type": "execute_result"
    }
   ],
   "source": [
    "df_temp = df_product.toPandas()\n",
    "df_temp.isna().sum()"
   ]
  },
  {
   "cell_type": "code",
   "execution_count": 12,
   "metadata": {},
   "outputs": [
    {
     "data": {
      "text/plain": [
       "5286"
      ]
     },
     "execution_count": 12,
     "metadata": {},
     "output_type": "execute_result"
    }
   ],
   "source": [
    "df_product.dropna().count()"
   ]
  },
  {
   "cell_type": "code",
   "execution_count": null,
   "metadata": {},
   "outputs": [],
   "source": [
    "df_customer.dropna().count()"
   ]
  },
  {
   "cell_type": "markdown",
   "metadata": {},
   "source": [
    "### Insight"
   ]
  },
  {
   "cell_type": "code",
   "execution_count": null,
   "metadata": {},
   "outputs": [],
   "source": []
  }
 ],
 "metadata": {
  "kernelspec": {
   "display_name": "Python 3 (ipykernel)",
   "language": "python",
   "name": "python3"
  },
  "language_info": {
   "codemirror_mode": {
    "name": "ipython",
    "version": 3
   },
   "file_extension": ".py",
   "mimetype": "text/x-python",
   "name": "python",
   "nbconvert_exporter": "python",
   "pygments_lexer": "ipython3",
   "version": "3.10.12"
  }
 },
 "nbformat": 4,
 "nbformat_minor": 4
}
