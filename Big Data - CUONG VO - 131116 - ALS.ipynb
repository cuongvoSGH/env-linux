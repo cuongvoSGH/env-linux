{
 "cells": [
  {
   "cell_type": "code",
   "execution_count": 2,
   "metadata": {},
   "outputs": [],
   "source": [
    "from pyspark.sql import SparkSession\n",
    "from pyspark.sql.types import *\n",
    "from pyspark.ml.recommendation import ALS\n",
    "from pyspark.ml.evaluation import RegressionEvaluator\n",
    "\n",
    "import matplotlib.pyplot as plt\n",
    "\n",
    "spark = SparkSession.builder \\\n",
    "    .appName(\"ALS\") \\\n",
    "    .getOrCreate()"
   ]
  },
  {
   "cell_type": "code",
   "execution_count": 3,
   "metadata": {},
   "outputs": [],
   "source": [
    "movies_schema = StructType([\n",
    "  StructField('movieId', IntegerType()),\n",
    "  StructField('title', StringType()),\n",
    "  StructField('genres', StringType())\n",
    "])\n",
    "\n",
    "ratings_schema = StructType([\n",
    "  StructField('userId', IntegerType()),\n",
    "  StructField('movieId', IntegerType()),\n",
    "  StructField('rating', FloatType()),\n",
    "  StructField('timestamp', IntegerType())  \n",
    "])"
   ]
  },
  {
   "cell_type": "code",
   "execution_count": 4,
   "metadata": {},
   "outputs": [
    {
     "name": "stdout",
     "output_type": "stream",
     "text": [
      "+-------+--------------------+--------------------+\n",
      "|movieId|               title|              genres|\n",
      "+-------+--------------------+--------------------+\n",
      "|      1|    Toy Story (1995)|Adventure|Animati...|\n",
      "|      2|      Jumanji (1995)|Adventure|Childre...|\n",
      "|      3|Grumpier Old Men ...|      Comedy|Romance|\n",
      "|      4|Waiting to Exhale...|Comedy|Drama|Romance|\n",
      "|      5|Father of the Bri...|              Comedy|\n",
      "|      6|         Heat (1995)|Action|Crime|Thri...|\n",
      "|      7|      Sabrina (1995)|      Comedy|Romance|\n",
      "|      8| Tom and Huck (1995)|  Adventure|Children|\n",
      "|      9| Sudden Death (1995)|              Action|\n",
      "|     10|    GoldenEye (1995)|Action|Adventure|...|\n",
      "|     11|American Presiden...|Comedy|Drama|Romance|\n",
      "|     12|Dracula: Dead and...|       Comedy|Horror|\n",
      "|     13|        Balto (1995)|Adventure|Animati...|\n",
      "|     14|        Nixon (1995)|               Drama|\n",
      "|     15|Cutthroat Island ...|Action|Adventure|...|\n",
      "|     16|       Casino (1995)|         Crime|Drama|\n",
      "|     17|Sense and Sensibi...|       Drama|Romance|\n",
      "|     18|   Four Rooms (1995)|              Comedy|\n",
      "|     19|Ace Ventura: When...|              Comedy|\n",
      "|     20|  Money Train (1995)|Action|Comedy|Cri...|\n",
      "+-------+--------------------+--------------------+\n",
      "only showing top 20 rows\n",
      "\n"
     ]
    }
   ],
   "source": [
    "file_location = \"./movies.csv\"\n",
    "file_type = \"csv\"\n",
    "\n",
    "# CSV options\n",
    "infer_schema = \"true\"\n",
    "first_row_is_header = \"true\"\n",
    "delimiter = \",\"\n",
    "\n",
    "# The applied options are for CSV files. For other file types, these will be ignored.\n",
    "df_movies = spark.read.format(file_type) \\\n",
    "  .option(\"inferSchema\", infer_schema) \\\n",
    "  .option(\"header\", first_row_is_header) \\\n",
    "  .option(\"sep\", delimiter) \\\n",
    "  .schema(movies_schema) \\\n",
    "  .load(file_location)\n",
    "\n",
    "df_movies.show()"
   ]
  },
  {
   "cell_type": "code",
   "execution_count": 5,
   "metadata": {},
   "outputs": [
    {
     "name": "stdout",
     "output_type": "stream",
     "text": [
      "+------+-------+------+----------+\n",
      "|userId|movieId|rating| timestamp|\n",
      "+------+-------+------+----------+\n",
      "|     1|      2|   3.5|1112486027|\n",
      "|     1|     29|   3.5|1112484676|\n",
      "|     1|     32|   3.5|1112484819|\n",
      "|     1|     47|   3.5|1112484727|\n",
      "|     1|     50|   3.5|1112484580|\n",
      "|     1|    112|   3.5|1094785740|\n",
      "|     1|    151|   4.0|1094785734|\n",
      "|     1|    223|   4.0|1112485573|\n",
      "|     1|    253|   4.0|1112484940|\n",
      "|     1|    260|   4.0|1112484826|\n",
      "|     1|    293|   4.0|1112484703|\n",
      "|     1|    296|   4.0|1112484767|\n",
      "|     1|    318|   4.0|1112484798|\n",
      "|     1|    337|   3.5|1094785709|\n",
      "|     1|    367|   3.5|1112485980|\n",
      "|     1|    541|   4.0|1112484603|\n",
      "|     1|    589|   3.5|1112485557|\n",
      "|     1|    593|   3.5|1112484661|\n",
      "|     1|    653|   3.0|1094785691|\n",
      "|     1|    919|   3.5|1094785621|\n",
      "+------+-------+------+----------+\n",
      "only showing top 20 rows\n",
      "\n"
     ]
    }
   ],
   "source": [
    "file_location = \"./ratings.csv\"\n",
    "file_type = \"csv\"\n",
    "\n",
    "# CSV options\n",
    "infer_schema = \"true\"\n",
    "first_row_is_header = \"true\"\n",
    "delimiter = \",\"\n",
    "\n",
    "# The applied options are for CSV files. For other file types, these will be ignored.\n",
    "df_ratings = spark.read.format(file_type) \\\n",
    "  .option(\"inferSchema\", infer_schema) \\\n",
    "  .option(\"header\", first_row_is_header) \\\n",
    "  .option(\"sep\", delimiter) \\\n",
    "  .schema(ratings_schema) \\\n",
    "  .load(file_location)\n",
    "\n",
    "df_ratings.show()\n"
   ]
  },
  {
   "cell_type": "code",
   "execution_count": 6,
   "metadata": {},
   "outputs": [],
   "source": [
    "(df_ratings_70, df_ratings_30) = df_ratings.randomSplit([0.7, 0.3], 50)\n",
    "df_ratings_train = df_ratings_70.cache()\n",
    "df_ratings_test = df_ratings_30.cache()"
   ]
  },
  {
   "cell_type": "code",
   "execution_count": 7,
   "metadata": {},
   "outputs": [],
   "source": [
    "Maxiter = 10\n",
    "rank = 10\n",
    "regparams = 0.1\n",
    "\n",
    "als = ALS().setMaxIter(Maxiter) \\\n",
    "    .setRegParam(regparams) \\\n",
    "    .setRank(rank) \\\n",
    "    .setUserCol('userId') \\\n",
    "    .setItemCol('movieId') \\\n",
    "    .setRatingCol('rating')\n"
   ]
  },
  {
   "cell_type": "code",
   "execution_count": 8,
   "metadata": {},
   "outputs": [
    {
     "name": "stderr",
     "output_type": "stream",
     "text": [
      "24/01/29 16:59:04 WARN InstanceBuilder: Failed to load implementation from:dev.ludovic.netlib.blas.JNIBLAS\n",
      "24/01/29 16:59:05 WARN InstanceBuilder: Failed to load implementation from:dev.ludovic.netlib.lapack.JNILAPACK\n",
      "                                                                                \r"
     ]
    }
   ],
   "source": [
    "model = als.fit(df_ratings_train)"
   ]
  },
  {
   "cell_type": "code",
   "execution_count": 9,
   "metadata": {},
   "outputs": [
    {
     "name": "stderr",
     "output_type": "stream",
     "text": [
      "[Stage 133:=========================>                              (6 + 7) / 13]\r"
     ]
    },
    {
     "name": "stdout",
     "output_type": "stream",
     "text": [
      "RMSE Error: 0.805246374624617\n"
     ]
    },
    {
     "name": "stderr",
     "output_type": "stream",
     "text": [
      "                                                                                \r"
     ]
    }
   ],
   "source": [
    "df_predicted_ratings = model.transform(df_ratings_test)\n",
    "df_predicted_ratings = df_predicted_ratings.filter(df_predicted_ratings.prediction != float('nan'))\n",
    "\n",
    "regr_eval = RegressionEvaluator(predictionCol='prediction', labelCol='rating', metricName='rmse')\n",
    "error = regr_eval.evaluate(df_predicted_ratings)\n",
    "print(f'RMSE Error: {error}')"
   ]
  },
  {
   "cell_type": "code",
   "execution_count": 10,
   "metadata": {},
   "outputs": [
    {
     "name": "stderr",
     "output_type": "stream",
     "text": [
      "                                                                                \r"
     ]
    }
   ],
   "source": [
    "Maxiter = [x*2 for x in range(1, 11)]\n",
    "\n",
    "result_maxiter = []\n",
    "\n",
    "for i in Maxiter:\n",
    "    als = ALS().setMaxIter(i) \\\n",
    "    .setRegParam(0.1) \\\n",
    "    .setRank(10) \\\n",
    "    .setUserCol('userId') \\\n",
    "    .setItemCol('movieId') \\\n",
    "    .setRatingCol('rating')\n",
    "    model = als.fit(df_ratings_train)\n",
    "    df_predicted_ratings = model.transform(df_ratings_test)\n",
    "    df_predicted_ratings = df_predicted_ratings.filter(df_predicted_ratings.prediction != float('nan'))\n",
    "\n",
    "    regr_eval = RegressionEvaluator(predictionCol='prediction', labelCol='rating', metricName='rmse')\n",
    "    error = regr_eval.evaluate(df_predicted_ratings)\n",
    "    result_maxiter.append(error)"
   ]
  },
  {
   "cell_type": "code",
   "execution_count": 11,
   "metadata": {},
   "outputs": [
    {
     "data": {
      "image/png": "[encoded data removed]",
      "text/plain": [
       "<Figure size 1000x500 with 1 Axes>"
      ]
     },
     "metadata": {},
     "output_type": "display_data"
    }
   ],
   "source": [
    "ay = plt.figure(figsize = (10,5)).subplots()\n",
    "chart = ay.plot(Maxiter, result_maxiter)\n",
    "ay.set_xlabel('MaxIter')\n",
    "ay.set_ylabel('RMSE')\n",
    "plt.show()"
   ]
  },
  {
   "cell_type": "code",
   "execution_count": 12,
   "metadata": {},
   "outputs": [
    {
     "name": "stderr",
     "output_type": "stream",
     "text": [
      "                                                                                \r"
     ]
    }
   ],
   "source": [
    "rank = [x*2 for x in range(1, 11)]\n",
    "\n",
    "result_rank = []\n",
    "\n",
    "for i in Maxiter:\n",
    "    als = ALS().setMaxIter(10) \\\n",
    "    .setRegParam(0.1) \\\n",
    "    .setRank(i) \\\n",
    "    .setUserCol('userId') \\\n",
    "    .setItemCol('movieId') \\\n",
    "    .setRatingCol('rating')\n",
    "    model = als.fit(df_ratings_train)\n",
    "    df_predicted_ratings = model.transform(df_ratings_test)\n",
    "    df_predicted_ratings = df_predicted_ratings.filter(df_predicted_ratings.prediction != float('nan'))\n",
    "\n",
    "    regr_eval = RegressionEvaluator(predictionCol='prediction', labelCol='rating', metricName='rmse')\n",
    "    error = regr_eval.evaluate(df_predicted_ratings)\n",
    "    result_rank.append(error)"
   ]
  },
  {
   "cell_type": "code",
   "execution_count": 13,
   "metadata": {},
   "outputs": [
    {
     "data": {
      "image/png": "[encoded data removed]",
      "text/plain": [
       "<Figure size 1000x500 with 1 Axes>"
      ]
     },
     "metadata": {},
     "output_type": "display_data"
    }
   ],
   "source": [
    "ay = plt.figure(figsize = (10,5)).subplots()\n",
    "chart = ay.plot(rank, result_rank)\n",
    "ay.set_xlabel('Rank')\n",
    "ay.set_ylabel('RMSE')\n",
    "plt.show()"
   ]
  },
  {
   "cell_type": "code",
   "execution_count": 14,
   "metadata": {},
   "outputs": [
    {
     "name": "stderr",
     "output_type": "stream",
     "text": [
      "                                                                                \r"
     ]
    }
   ],
   "source": [
    "regparams = [float(x*2 / 100) for x in range(1, 11)]\n",
    "\n",
    "result_reg = []\n",
    "\n",
    "for i in Maxiter:\n",
    "    als = ALS().setMaxIter(10) \\\n",
    "    .setRegParam(i) \\\n",
    "    .setRank(10) \\\n",
    "    .setUserCol('userId') \\\n",
    "    .setItemCol('movieId') \\\n",
    "    .setRatingCol('rating')\n",
    "    model = als.fit(df_ratings_train)\n",
    "    df_predicted_ratings = model.transform(df_ratings_test)\n",
    "    df_predicted_ratings = df_predicted_ratings.filter(df_predicted_ratings.prediction != float('nan'))\n",
    "\n",
    "    regr_eval = RegressionEvaluator(predictionCol='prediction', labelCol='rating', metricName='rmse')\n",
    "    error = regr_eval.evaluate(df_predicted_ratings)\n",
    "    result_reg.append(error)"
   ]
  },
  {
   "cell_type": "code",
   "execution_count": 15,
   "metadata": {},
   "outputs": [
    {
     "data": {
      "image/png": "[encoded data removed]",
      "text/plain": [
       "<Figure size 1000x500 with 1 Axes>"
      ]
     },
     "metadata": {},
     "output_type": "display_data"
    }
   ],
   "source": [
    "ay = plt.figure(figsize = (10,5)).subplots()\n",
    "chart = ay.plot(regparams, result_reg)\n",
    "ay.set_xlabel('RegParams')\n",
    "ay.set_ylabel('RMSE')\n",
    "plt.show()"
   ]
  },
  {
   "cell_type": "code",
   "execution_count": 19,
   "metadata": {},
   "outputs": [],
   "source": [
    "my_user_id = 0\n",
    "\n",
    "my_rated_movies = [\n",
    "    (my_user_id, 318, 3, 0), # Shawshank redemption\n",
    "    (my_user_id, 908, 4, 0), # North by Northwest (1959)\n",
    "    (my_user_id, 858, 5, 0), # Godfather, The (1972)\n",
    "    (my_user_id, 2019, 4, 0), # Seven Samurai (The Magnificent Seven) (Shichinin no samurai) (1954)\n",
    "    (my_user_id, 912, 4, 0), # Casablanca (1942)\n",
    "    (my_user_id, 1250, 5, 0), # Bridge on the River Kwai, The (1957)\n",
    "    (my_user_id, 2324, 5, 0), # Life Is Beautiful (La Vita ? bella) (1997)\n",
    "    (my_user_id, 1233, 5, 0), # Boat, The (Das Boot) (1981)\n",
    "    (my_user_id, 593, 4, 0), # Silence of the Lambs, The (1991)\n",
    "    (my_user_id, 1262, 4, 0), # Great Escape, The (1963)\n",
    "    (my_user_id, 260, 5, 0), # Star Wars: Episode IV - A New Hope (1977) \n",
    "     # The format of each line is (my_user_id, movie ID, your rating)\n",
    "     # For example, to give the movie \"Star Wars: Episode IV - A New Hope (1977)\" a five rating, you would add the following line:\n",
    "     #   (my_user_id, 260, 5),\n",
    "]"
   ]
  },
  {
   "cell_type": "code",
   "execution_count": 20,
   "metadata": {},
   "outputs": [
    {
     "name": "stdout",
     "output_type": "stream",
     "text": [
      "+------+-------+------+---------+\n",
      "|userId|movieId|rating|timestamp|\n",
      "+------+-------+------+---------+\n",
      "|     0|    318|     3|        0|\n",
      "|     0|    908|     4|        0|\n",
      "|     0|    858|     5|        0|\n",
      "|     0|   2019|     4|        0|\n",
      "|     0|    912|     4|        0|\n",
      "|     0|   1250|     5|        0|\n",
      "|     0|   2324|     5|        0|\n",
      "|     0|   1233|     5|        0|\n",
      "|     0|    593|     4|        0|\n",
      "|     0|   1262|     4|        0|\n",
      "|     0|    260|     5|        0|\n",
      "+------+-------+------+---------+\n",
      "\n"
     ]
    }
   ],
   "source": [
    "df_my_ratings = spark.createDataFrame(my_rated_movies, ['userId', 'movieId', 'rating', 'timestamp'])\n",
    "df_my_ratings.show()"
   ]
  },
  {
   "cell_type": "code",
   "execution_count": 21,
   "metadata": {},
   "outputs": [
    {
     "name": "stdout",
     "output_type": "stream",
     "text": [
      "13999371\n",
      "13999382\n"
     ]
    }
   ],
   "source": [
    "print(df_ratings_train.count())\n",
    "df_training_with_my_own = df_ratings_train.unionAll(df_my_ratings)\n",
    "print(df_training_with_my_own.count())"
   ]
  },
  {
   "cell_type": "code",
   "execution_count": 28,
   "metadata": {},
   "outputs": [
    {
     "name": "stderr",
     "output_type": "stream",
     "text": [
      "                                                                                \r"
     ]
    }
   ],
   "source": [
    "als = ALS().setMaxIter(10).setRegParam(0.1) \\\n",
    "  .setUserCol('userId') \\\n",
    "  .setItemCol('movieId') \\\n",
    "  .setRatingCol('rating') \\\n",
    "  .setRank(10)\n",
    "\n",
    "my_model = als.fit(df_training_with_my_own)"
   ]
  },
  {
   "cell_type": "code",
   "execution_count": 29,
   "metadata": {},
   "outputs": [
    {
     "name": "stdout",
     "output_type": "stream",
     "text": [
      "[318, 908, 858, 2019, 912, 1250, 2324, 1233, 593, 1262, 260]\n"
     ]
    }
   ],
   "source": [
    "my_ratings_movie_ids = [x[1] for x in my_rated_movies]\n",
    "print(my_ratings_movie_ids)"
   ]
  },
  {
   "cell_type": "code",
   "execution_count": 30,
   "metadata": {},
   "outputs": [
    {
     "name": "stdout",
     "output_type": "stream",
     "text": [
      "27278\n",
      "27267\n"
     ]
    }
   ],
   "source": [
    "print(df_movies.count())\n",
    "df_not_rated = df_movies.filter(~df_movies['movieId'].isin(my_ratings_movie_ids))\n",
    "print(df_not_rated.count())"
   ]
  },
  {
   "cell_type": "code",
   "execution_count": 31,
   "metadata": {},
   "outputs": [
    {
     "name": "stdout",
     "output_type": "stream",
     "text": [
      "+-------+--------------------+--------------------+------+\n",
      "|movieId|               title|              genres|userId|\n",
      "+-------+--------------------+--------------------+------+\n",
      "|      1|    Toy Story (1995)|Adventure|Animati...|     0|\n",
      "|      2|      Jumanji (1995)|Adventure|Childre...|     0|\n",
      "|      3|Grumpier Old Men ...|      Comedy|Romance|     0|\n",
      "|      4|Waiting to Exhale...|Comedy|Drama|Romance|     0|\n",
      "|      5|Father of the Bri...|              Comedy|     0|\n",
      "|      6|         Heat (1995)|Action|Crime|Thri...|     0|\n",
      "|      7|      Sabrina (1995)|      Comedy|Romance|     0|\n",
      "|      8| Tom and Huck (1995)|  Adventure|Children|     0|\n",
      "|      9| Sudden Death (1995)|              Action|     0|\n",
      "|     10|    GoldenEye (1995)|Action|Adventure|...|     0|\n",
      "|     11|American Presiden...|Comedy|Drama|Romance|     0|\n",
      "|     12|Dracula: Dead and...|       Comedy|Horror|     0|\n",
      "|     13|        Balto (1995)|Adventure|Animati...|     0|\n",
      "|     14|        Nixon (1995)|               Drama|     0|\n",
      "|     15|Cutthroat Island ...|Action|Adventure|...|     0|\n",
      "|     16|       Casino (1995)|         Crime|Drama|     0|\n",
      "|     17|Sense and Sensibi...|       Drama|Romance|     0|\n",
      "|     18|   Four Rooms (1995)|              Comedy|     0|\n",
      "|     19|Ace Ventura: When...|              Comedy|     0|\n",
      "|     20|  Money Train (1995)|Action|Comedy|Cri...|     0|\n",
      "+-------+--------------------+--------------------+------+\n",
      "only showing top 20 rows\n",
      "\n"
     ]
    }
   ],
   "source": [
    "from pyspark.sql.functions import lit\n",
    "\n",
    "df_my_unrated_movies = df_not_rated.withColumn('userId', lit(my_user_id))\n",
    "df_my_unrated_movies.show()"
   ]
  },
  {
   "cell_type": "code",
   "execution_count": 32,
   "metadata": {},
   "outputs": [
    {
     "name": "stdout",
     "output_type": "stream",
     "text": [
      "+-------+--------------------+--------------------+------+----------+\n",
      "|movieId|               title|              genres|userId|prediction|\n",
      "+-------+--------------------+--------------------+------+----------+\n",
      "|     12|Dracula: Dead and...|       Comedy|Horror|     0|  1.998664|\n",
      "|      1|    Toy Story (1995)|Adventure|Animati...|     0| 3.8754542|\n",
      "|     13|        Balto (1995)|Adventure|Animati...|     0| 2.8015845|\n",
      "|      6|         Heat (1995)|Action|Crime|Thri...|     0|  3.769874|\n",
      "|     16|       Casino (1995)|         Crime|Drama|     0| 3.7198157|\n",
      "|      3|Grumpier Old Men ...|      Comedy|Romance|     0| 2.7045376|\n",
      "|     20|  Money Train (1995)|Action|Comedy|Cri...|     0| 2.2997339|\n",
      "|      5|Father of the Bri...|              Comedy|     0|  2.436352|\n",
      "|     19|Ace Ventura: When...|              Comedy|     0|  2.109454|\n",
      "|     15|Cutthroat Island ...|Action|Adventure|...|     0|  2.160446|\n",
      "|      9| Sudden Death (1995)|              Action|     0|  2.319711|\n",
      "|     17|Sense and Sensibi...|       Drama|Romance|     0| 3.6605506|\n",
      "|      4|Waiting to Exhale...|Comedy|Drama|Romance|     0| 2.1787634|\n",
      "|      8| Tom and Huck (1995)|  Adventure|Children|     0| 2.3931608|\n",
      "|      7|      Sabrina (1995)|      Comedy|Romance|     0| 2.8984532|\n",
      "|     10|    GoldenEye (1995)|Action|Adventure|...|     0|  3.251824|\n",
      "|     21|   Get Shorty (1995)|Comedy|Crime|Thri...|     0| 3.5094318|\n",
      "|     11|American Presiden...|Comedy|Drama|Romance|     0| 3.2659738|\n",
      "|     14|        Nixon (1995)|               Drama|     0| 3.3566885|\n",
      "|      2|      Jumanji (1995)|Adventure|Childre...|     0| 2.8040128|\n",
      "+-------+--------------------+--------------------+------+----------+\n",
      "only showing top 20 rows\n",
      "\n"
     ]
    }
   ],
   "source": [
    "df_my_predicted_ratings = my_model.transform(df_my_unrated_movies)\n",
    "df_my_predicted_ratings.show()"
   ]
  },
  {
   "cell_type": "code",
   "execution_count": 33,
   "metadata": {},
   "outputs": [
    {
     "name": "stdout",
     "output_type": "stream",
     "text": [
      "+-------+--------------------+--------------------+------+----------+\n",
      "|movieId|               title|              genres|userId|prediction|\n",
      "+-------+--------------------+--------------------+------+----------+\n",
      "| 120815|Patton Oswalt: We...|              Comedy|     0| 5.3695345|\n",
      "|  82055|Devil to Pay!, Th...|      Comedy|Romance|     0| 5.3443875|\n",
      "| 120811|Patton Oswalt: Fi...|              Comedy|     0| 5.2623854|\n",
      "|  81117|Moth, The (Cma) (...|               Drama|     0| 5.2608485|\n",
      "| 112473|Stuart: A Life Ba...|               Drama|     0|  5.032073|\n",
      "|  81072|   Konopielka (1982)|              Comedy|     0|  5.012461|\n",
      "| 126219|    Marihuana (1936)|   Documentary|Drama|     0|  5.006997|\n",
      "| 130347|Bill Hicks: Sane ...|              Comedy|     0|  4.960701|\n",
      "| 112577|Willie & Phil (1980)|Comedy|Drama|Romance|     0| 4.9450665|\n",
      "| 104119|Forsyte Saga, The...|               Drama|     0| 4.9450665|\n",
      "| 112423|I Belong (Som du ...|               Drama|     0|  4.928131|\n",
      "| 120134|Doggiewoggiez! Po...|              Comedy|     0|  4.869155|\n",
      "| 117907|My Brother Tom (2...|               Drama|     0| 4.8568797|\n",
      "|  57478|Laugh, Clown, Lau...|               Drama|     0| 4.8295894|\n",
      "| 121029|No Distance Left ...|         Documentary|     0|  4.828513|\n",
      "| 128091|Craig Ferguson: A...|              Comedy|     0|  4.815513|\n",
      "|  56869|Drained (O cheiro...|              Comedy|     0| 4.8114586|\n",
      "| 101717|Elusive Summer of...|Comedy|Drama|Romance|     0|  4.786126|\n",
      "|  65764|Chinese Coffee (2...|               Drama|     0| 4.7795877|\n",
      "| 129514|George Carlin: It...|              Comedy|     0|  4.762659|\n",
      "+-------+--------------------+--------------------+------+----------+\n",
      "only showing top 20 rows\n",
      "\n"
     ]
    }
   ],
   "source": [
    "from pyspark.sql.functions import desc\n",
    "\n",
    "df_my_predicted_ratings = df_my_predicted_ratings.filter(df_my_predicted_ratings.prediction != float('nan'))\n",
    "df_my_predicted_ratings.sort(desc('prediction')).show(20)"
   ]
  }
 ],
 "metadata": {
  "kernelspec": {
   "display_name": "Python 3",
   "language": "python",
   "name": "python3"
  },
  "language_info": {
   "codemirror_mode": {
    "name": "ipython",
    "version": 3
   },
   "file_extension": ".py",
   "mimetype": "text/x-python",
   "name": "python",
   "nbconvert_exporter": "python",
   "pygments_lexer": "ipython3",
   "version": "3.10.12"
  }
 },
 "nbformat": 4,
 "nbformat_minor": 2
}
