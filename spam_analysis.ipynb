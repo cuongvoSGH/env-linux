{
 "cells": [
  {
   "cell_type": "code",
   "execution_count": 1,
   "metadata": {},
   "outputs": [
    {
     "name": "stderr",
     "output_type": "stream",
     "text": [
      "your 131072x1 screen size is bogus. expect trouble\n",
      "24/02/01 22:03:16 WARN Utils: Your hostname, CuongAtPoland resolves to a loopback address: 127.0.1.1; using 172.27.34.142 instead (on interface eth0)\n",
      "24/02/01 22:03:16 WARN Utils: Set SPARK_LOCAL_IP if you need to bind to another address\n",
      "Setting default log level to \"WARN\".\n",
      "To adjust logging level use sc.setLogLevel(newLevel). For SparkR, use setLogLevel(newLevel).\n",
      "24/02/01 22:03:18 WARN NativeCodeLoader: Unable to load native-hadoop library for your platform... using builtin-java classes where applicable\n"
     ]
    }
   ],
   "source": [
    "from pyspark.sql import SparkSession\n",
    "spark = SparkSession.builder.appName(\"Spam Checking\").getOrCreate()"
   ]
  },
  {
   "cell_type": "code",
   "execution_count": 3,
   "metadata": {},
   "outputs": [],
   "source": [
    "file_location = \"./spamham.csv\"\n",
    "file_type = \"csv\"\n",
    "\n",
    "# CSV options\n",
    "infer_schema = \"true\"\n",
    "first_row_is_header = \"true\"\n",
    "delimiter = \",\"\n",
    "\n",
    "# The applied options are for CSV files. For other file types, these will be ignored.\n",
    "df = spark.read.format(file_type) \\\n",
    "  .option(\"inferSchema\", infer_schema) \\\n",
    "  .option(\"header\", first_row_is_header) \\\n",
    "  .option(\"sep\", delimiter) \\\n",
    "  .option(\"quote\", '\"') \\\n",
    "  .option(\"escape\", '\"') \\\n",
    "  .load(file_location)\n"
   ]
  },
  {
   "cell_type": "code",
   "execution_count": 4,
   "metadata": {},
   "outputs": [
    {
     "name": "stdout",
     "output_type": "stream",
     "text": [
      "+--------------------+----+\n",
      "|                text|spam|\n",
      "+--------------------+----+\n",
      "|Subject: naturall...|   1|\n",
      "|Subject: the stoc...|   1|\n",
      "|Subject: unbeliev...|   1|\n",
      "|Subject: 4 color ...|   1|\n",
      "|Subject: do not h...|   1|\n",
      "|Subject: great nn...|   1|\n",
      "|Subject: here ' s...|   1|\n",
      "|Subject: save you...|   1|\n",
      "|Subject: undelive...|   1|\n",
      "|Subject: save you...|   1|\n",
      "|Subject: las vega...|   1|\n",
      "|Subject: save you...|   1|\n",
      "|Subject: brighten...|   1|\n",
      "|Subject: wall str...|   1|\n",
      "|Subject: fpa noti...|   1|\n",
      "|Subject: search e...|   1|\n",
      "|Subject: only our...|   1|\n",
      "|Subject: localize...|   1|\n",
      "|Subject: security...|   1|\n",
      "|Subject: 21 st ce...|   1|\n",
      "+--------------------+----+\n",
      "only showing top 20 rows\n",
      "\n"
     ]
    }
   ],
   "source": [
    "df.show()"
   ]
  },
  {
   "cell_type": "code",
   "execution_count": 5,
   "metadata": {},
   "outputs": [
    {
     "data": {
      "text/plain": [
       "5728"
      ]
     },
     "execution_count": 5,
     "metadata": {},
     "output_type": "execute_result"
    }
   ],
   "source": [
    "df.count()"
   ]
  },
  {
   "cell_type": "code",
   "execution_count": 6,
   "metadata": {},
   "outputs": [
    {
     "name": "stderr",
     "output_type": "stream",
     "text": [
      "[Stage 8:>                                                          (0 + 1) / 1]\r"
     ]
    },
    {
     "name": "stdout",
     "output_type": "stream",
     "text": [
      "+--------------------+----+--------------------+\n",
      "|                text|spam|             message|\n",
      "+--------------------+----+--------------------+\n",
      "|Subject: naturall...|   1|naturally irresis...|\n",
      "|Subject: the stoc...|   1|the stock trading...|\n",
      "|Subject: unbeliev...|   1|unbelievable new ...|\n",
      "|Subject: 4 color ...|   1|4 color printing ...|\n",
      "|Subject: do not h...|   1|do not have money...|\n",
      "|Subject: great nn...|   1|great nnews  hell...|\n",
      "|Subject: here ' s...|   1|here ' s a hot pl...|\n",
      "|Subject: save you...|   1|save your money b...|\n",
      "|Subject: undelive...|   1|undeliverable  ho...|\n",
      "|Subject: save you...|   1|save your money b...|\n",
      "|Subject: las vega...|   1|las vegas high ri...|\n",
      "|Subject: save you...|   1|save your money b...|\n",
      "|Subject: brighten...|   1|brighten those te...|\n",
      "|Subject: wall str...|   1|wall street pheno...|\n",
      "|Subject: fpa noti...|   1|fpa notice  ebay ...|\n",
      "|Subject: search e...|   1|search engine pos...|\n",
      "|Subject: only our...|   1|only our software...|\n",
      "|Subject: localize...|   1|localized softwar...|\n",
      "|Subject: security...|   1|security alert - ...|\n",
      "|Subject: 21 st ce...|   1|21 st century web...|\n",
      "|Subject: any med ...|   1|any med for your ...|\n",
      "|Subject: re : wea...|   1|re  wearable elec...|\n",
      "|Subject: top - le...|   1|top - level logo ...|\n",
      "|Subject: your tru...|   1|your trusted sour...|\n",
      "|Subject: rely on ...|   1|rely on us for yo...|\n",
      "|Subject: guzzle l...|   1|guzzle like a fou...|\n",
      "|Subject: are you ...|   1|are you losing ? ...|\n",
      "|Subject: hi  how ...|   1|hi  how to save o...|\n",
      "|Subject: 25 mg di...|   1|25 mg did thhe tr...|\n",
      "|Subject: save you...|   1|save your money b...|\n",
      "|Subject: want to ...|   1|want to accept cr...|\n",
      "|Subject: [ ilug ]...|   1|[ ilug ] seeking ...|\n",
      "|Subject: [ ilug ]...|   1|[ ilug ] guarante...|\n",
      "|Subject: re : jus...|   1|re  just to her ....|\n",
      "|Subject: ms 2003 ...|   1|ms 2003 software ...|\n",
      "|Subject: failure ...|   1|failure notice  h...|\n",
      "|Subject: claim yo...|   1|claim your free $...|\n",
      "|Subject: perfect ...|   1|perfect logo char...|\n",
      "|Subject: branded ...|   1|branded softs  ro...|\n",
      "|Subject: extra ti...|   1|extra time - last...|\n",
      "|Subject: get the ...|   1|get the best pric...|\n",
      "|Subject: bro chec...|   1|bro check out thi...|\n",
      "|Subject: hidden g...|   1|hidden gems help ...|\n",
      "|Subject: 10 minut...|   1|10 minutes before...|\n",
      "|Subject: wish you...|   1|wish you could be...|\n",
      "|Subject: 1000 ful...|   1|1000 full color b...|\n",
      "|Subject: search f...|   1|search for the be...|\n",
      "|Subject: failure ...|   1|failure notice  h...|\n",
      "|Subject: claim yo...|   1|claim your free h...|\n",
      "|Subject: breaking...|   1|breaking biotech ...|\n",
      "|Subject: prop 0 s...|   1|prop 0 sal  dear ...|\n",
      "|Subject: grab thi...|   1|grab this quick t...|\n",
      "|Subject: yyyy , d...|   1|yyyy , do you kno...|\n",
      "|Subject: make big...|   1|make big money wi...|\n",
      "|Subject: are you ...|   1|are you ready to ...|\n",
      "|Subject: letter f...|   1|letter from  dani...|\n",
      "|Subject: localize...|   1|localized softwar...|\n",
      "|Subject: for your...|   1|for your informat...|\n",
      "|Subject: did you ...|   1|did you complete ...|\n",
      "|Subject: your bes...|   1|your best source ...|\n",
      "|Subject: partners...|   1|partnership  mr ....|\n",
      "|Subject: select s...|   1|select small - ca...|\n",
      "|Subject: save you...|   1|save your money b...|\n",
      "|Subject: save you...|   1|save your money b...|\n",
      "|Subject: how to s...|   1|how to soak her i...|\n",
      "|Subject: mail ser...|   1|mail server  dear...|\n",
      "|Subject: the big ...|   1|the big unit  wit...|\n",
      "|Subject: does you...|   1|does your busines...|\n",
      "|Subject: ion  onl...|   1|ion  online secur...|\n",
      "|Subject: quelqu '...|   1|quelqu ' un t ' a...|\n",
      "|Subject: get your...|   1|get your babies d...|\n",
      "|Subject: isa arti...|   1|isa article on em...|\n",
      "|Subject: localize...|   1|localized softwar...|\n",
      "|Subject: congratu...|   1|congratulations h...|\n",
      "|Subject: i know y...|   1|i know your compa...|\n",
      "|Subject: christia...|   1|christian health ...|\n",
      "|Subject: over 80 ...|   1|over 80 % savings...|\n",
      "|Subject: you only...|   1|you only think yo...|\n",
      "|Subject: perfect ...|   1|perfect logo char...|\n",
      "|Subject: join foc...|   1|join focus groups...|\n",
      "|Subject: update y...|   1|update your accou...|\n",
      "|Subject: delivery...|   1|delivery notifica...|\n",
      "|Subject: the cred...|   1|the credit law is...|\n",
      "|Subject: we know ...|   1|we know our sto -...|\n",
      "|Subject: are you ...|   1|are you ready to ...|\n",
      "|Subject: are you ...|   1|are you ready to ...|\n",
      "|Subject: 00971 50...|   1|00971 50 2443308 ...|\n",
      "|Subject: returned...|   1|returned mail  ho...|\n",
      "|Subject: enjoy me...|   1|enjoy media ( ejy...|\n",
      "|Subject: i think ...|   1|i think you might...|\n",
      "|Subject: investme...|   1|investment / part...|\n",
      "|Subject: use this...|   1|use this handy in...|\n",
      "|Subject:   http :...|   1|http  / / www . v...|\n",
      "|Subject: fwd : ne...|   1|fwd  next tuesday...|\n",
      "|Subject: outstand...|   1|outstanding oppor...|\n",
      "|Subject: v - shoo...|   1|v - shoop  hello ...|\n",
      "|Subject: you need...|   1|you need only 15 ...|\n",
      "|Subject: do i req...|   1|do i require an a...|\n",
      "|Subject: high - q...|   1|high - quality af...|\n",
      "|Subject: save you...|   1|save your money b...|\n",
      "+--------------------+----+--------------------+\n",
      "only showing top 100 rows\n",
      "\n"
     ]
    },
    {
     "name": "stderr",
     "output_type": "stream",
     "text": [
      "                                                                                \r"
     ]
    }
   ],
   "source": [
    "def elim_subject(x):\n",
    "  return ''.join(x.split(':')[1:]).strip()\n",
    "\n",
    "from pyspark.sql.types import StringType\n",
    "from pyspark.sql.functions import udf\n",
    "\n",
    "elim_subject_udf = udf(elim_subject, StringType())\n",
    "df_elim = df.withColumn('message', elim_subject_udf(df['text']))\n",
    "df_elim.show(100)"
   ]
  },
  {
   "cell_type": "code",
   "execution_count": 7,
   "metadata": {},
   "outputs": [
    {
     "name": "stdout",
     "output_type": "stream",
     "text": [
      "+--------------------+----+--------------------+--------------------+\n",
      "|                text|spam|             message|               words|\n",
      "+--------------------+----+--------------------+--------------------+\n",
      "|Subject: naturall...|   1|naturally irresis...|[naturally, irres...|\n",
      "|Subject: the stoc...|   1|the stock trading...|[the, stock, trad...|\n",
      "|Subject: unbeliev...|   1|unbelievable new ...|[unbelievable, ne...|\n",
      "|Subject: 4 color ...|   1|4 color printing ...|[4, color, printi...|\n",
      "|Subject: do not h...|   1|do not have money...|[do, not, have, m...|\n",
      "|Subject: great nn...|   1|great nnews  hell...|[great, nnews, , ...|\n",
      "|Subject: here ' s...|   1|here ' s a hot pl...|[here, ', s, a, h...|\n",
      "|Subject: save you...|   1|save your money b...|[save, your, mone...|\n",
      "|Subject: undelive...|   1|undeliverable  ho...|[undeliverable, ,...|\n",
      "|Subject: save you...|   1|save your money b...|[save, your, mone...|\n",
      "|Subject: las vega...|   1|las vegas high ri...|[las, vegas, high...|\n",
      "|Subject: save you...|   1|save your money b...|[save, your, mone...|\n",
      "|Subject: brighten...|   1|brighten those te...|[brighten, those,...|\n",
      "|Subject: wall str...|   1|wall street pheno...|[wall, street, ph...|\n",
      "|Subject: fpa noti...|   1|fpa notice  ebay ...|[fpa, notice, , e...|\n",
      "|Subject: search e...|   1|search engine pos...|[search, engine, ...|\n",
      "|Subject: only our...|   1|only our software...|[only, our, softw...|\n",
      "|Subject: localize...|   1|localized softwar...|[localized, softw...|\n",
      "|Subject: security...|   1|security alert - ...|[security, alert,...|\n",
      "|Subject: 21 st ce...|   1|21 st century web...|[21, st, century,...|\n",
      "+--------------------+----+--------------------+--------------------+\n",
      "only showing top 20 rows\n",
      "\n"
     ]
    }
   ],
   "source": [
    "from pyspark.ml.feature import Tokenizer\n",
    "tokenizer = Tokenizer(inputCol='message', outputCol='words')\n",
    "wordsData = tokenizer.transform(df_elim)\n",
    "wordsData.show()"
   ]
  },
  {
   "cell_type": "code",
   "execution_count": 8,
   "metadata": {},
   "outputs": [
    {
     "name": "stderr",
     "output_type": "stream",
     "text": [
      "                                                                                \r"
     ]
    },
    {
     "name": "stdout",
     "output_type": "stream",
     "text": [
      "+--------------------+----+--------------------+--------------------+--------------------+\n",
      "|                text|spam|             message|               words|            features|\n",
      "+--------------------+----+--------------------+--------------------+--------------------+\n",
      "|Subject: naturall...|   1|naturally irresis...|[naturally, irres...|(37440,[0,1,2,3,4...|\n",
      "|Subject: the stoc...|   1|the stock trading...|[the, stock, trad...|(37440,[0,4,7,19,...|\n",
      "|Subject: unbeliev...|   1|unbelievable new ...|[unbelievable, ne...|(37440,[0,1,2,3,4...|\n",
      "|Subject: 4 color ...|   1|4 color printing ...|[4, color, printi...|(37440,[0,1,2,3,6...|\n",
      "|Subject: do not h...|   1|do not have money...|[do, not, have, m...|(37440,[0,2,3,4,5...|\n",
      "|Subject: great nn...|   1|great nnews  hell...|[great, nnews, , ...|(37440,[0,1,2,3,4...|\n",
      "|Subject: here ' s...|   1|here ' s a hot pl...|[here, ', s, a, h...|(37440,[0,1,2,3,4...|\n",
      "|Subject: save you...|   1|save your money b...|[save, your, mone...|(37440,[0,1,2,4,5...|\n",
      "|Subject: undelive...|   1|undeliverable  ho...|[undeliverable, ,...|(37440,[0,1,2,3,4...|\n",
      "|Subject: save you...|   1|save your money b...|[save, your, mone...|(37440,[0,1,2,4,5...|\n",
      "|Subject: las vega...|   1|las vegas high ri...|[las, vegas, high...|(37440,[0,1,2,3,4...|\n",
      "|Subject: save you...|   1|save your money b...|[save, your, mone...|(37440,[0,1,2,4,5...|\n",
      "|Subject: brighten...|   1|brighten those te...|[brighten, those,...|(37440,[0,2,3,4,5...|\n",
      "|Subject: wall str...|   1|wall street pheno...|[wall, street, ph...|(37440,[0,1,2,3,4...|\n",
      "|Subject: fpa noti...|   1|fpa notice  ebay ...|[fpa, notice, , e...|(37440,[0,1,2,3,4...|\n",
      "|Subject: search e...|   1|search engine pos...|[search, engine, ...|(37440,[0,2,3,4,5...|\n",
      "|Subject: only our...|   1|only our software...|[only, our, softw...|(37440,[0,1,2,3,5...|\n",
      "|Subject: localize...|   1|localized softwar...|[localized, softw...|(37440,[0,1,2,3,5...|\n",
      "|Subject: security...|   1|security alert - ...|[security, alert,...|(37440,[0,1,9,27,...|\n",
      "|Subject: 21 st ce...|   1|21 st century web...|[21, st, century,...|(37440,[0,1,2,3,4...|\n",
      "+--------------------+----+--------------------+--------------------+--------------------+\n",
      "only showing top 20 rows\n",
      "\n"
     ]
    }
   ],
   "source": [
    "from pyspark.ml.feature import CountVectorizer\n",
    "cv = CountVectorizer(inputCol='words', outputCol='features')\n",
    "model = cv.fit(wordsData)\n",
    "featurizedDF = model.transform(wordsData)\n",
    "\n",
    "featurizedDF.show()"
   ]
  },
  {
   "cell_type": "code",
   "execution_count": 9,
   "metadata": {},
   "outputs": [
    {
     "name": "stderr",
     "output_type": "stream",
     "text": [
      "                                                                                \r"
     ]
    },
    {
     "name": "stdout",
     "output_type": "stream",
     "text": [
      "+-----+--------------------+\n",
      "|label|            features|\n",
      "+-----+--------------------+\n",
      "|    1|(37440,[0,1,2,3,4...|\n",
      "|    1|(37440,[0,4,7,19,...|\n",
      "|    1|(37440,[0,1,2,3,4...|\n",
      "|    1|(37440,[0,1,2,3,6...|\n",
      "|    1|(37440,[0,2,3,4,5...|\n",
      "|    1|(37440,[0,1,2,3,4...|\n",
      "|    1|(37440,[0,1,2,3,4...|\n",
      "|    1|(37440,[0,1,2,4,5...|\n",
      "|    1|(37440,[0,1,2,3,4...|\n",
      "|    1|(37440,[0,1,2,4,5...|\n",
      "|    1|(37440,[0,1,2,3,4...|\n",
      "|    1|(37440,[0,1,2,4,5...|\n",
      "|    1|(37440,[0,2,3,4,5...|\n",
      "|    1|(37440,[0,1,2,3,4...|\n",
      "|    1|(37440,[0,1,2,3,4...|\n",
      "|    1|(37440,[0,2,3,4,5...|\n",
      "|    1|(37440,[0,1,2,3,5...|\n",
      "|    1|(37440,[0,1,2,3,5...|\n",
      "|    1|(37440,[0,1,9,27,...|\n",
      "|    1|(37440,[0,1,2,3,4...|\n",
      "+-----+--------------------+\n",
      "only showing top 20 rows\n",
      "\n"
     ]
    },
    {
     "name": "stderr",
     "output_type": "stream",
     "text": [
      "24/02/01 22:06:59 WARN DAGScheduler: Broadcasting large task binary with size 1003.2 KiB\n"
     ]
    }
   ],
   "source": [
    "from pyspark.ml.feature import IDF\n",
    "from pyspark.sql.functions import col\n",
    "\n",
    "idf = IDF(inputCol=\"features\", outputCol=\"idfFeatures\")\n",
    "idfModel = idf.fit(featurizedDF)\n",
    "rescaledData = idfModel.transform(featurizedDF)\n",
    "#display(rescaledData)\n",
    "\n",
    "dataForTraining = rescaledData.select(col('spam').alias('label'), col('idfFeatures').alias('features'))\n",
    "dataForTraining.show()"
   ]
  },
  {
   "cell_type": "code",
   "execution_count": 10,
   "metadata": {},
   "outputs": [
    {
     "name": "stderr",
     "output_type": "stream",
     "text": [
      "24/02/01 22:07:15 WARN DAGScheduler: Broadcasting large task binary with size 1016.4 KiB\n",
      "24/02/01 22:07:16 WARN DAGScheduler: Broadcasting large task binary with size 1016.4 KiB\n"
     ]
    },
    {
     "name": "stdout",
     "output_type": "stream",
     "text": [
      "4580\n"
     ]
    },
    {
     "name": "stderr",
     "output_type": "stream",
     "text": [
      "[Stage 20:===================>                                      (1 + 2) / 3]\r"
     ]
    },
    {
     "name": "stdout",
     "output_type": "stream",
     "text": [
      "1148\n"
     ]
    },
    {
     "name": "stderr",
     "output_type": "stream",
     "text": [
      "                                                                                \r"
     ]
    }
   ],
   "source": [
    "trainDF, testDF = dataForTraining.randomSplit([0.8, 0.2])\n",
    "print(trainDF.count())\n",
    "print(testDF.count())"
   ]
  },
  {
   "cell_type": "code",
   "execution_count": 11,
   "metadata": {},
   "outputs": [
    {
     "name": "stdout",
     "output_type": "stream",
     "text": [
      "[0.3   0.242 0.184 0.126 0.068 0.01 ]\n"
     ]
    }
   ],
   "source": [
    "import numpy as np\n",
    "regParamValues = np.linspace(0.3, 0.01, 6)\n",
    "print(regParamValues)"
   ]
  },
  {
   "cell_type": "code",
   "execution_count": 12,
   "metadata": {},
   "outputs": [
    {
     "name": "stdout",
     "output_type": "stream",
     "text": [
      "[0.3  0.01]\n",
      "[0.3 0.8]\n"
     ]
    },
    {
     "name": "stderr",
     "output_type": "stream",
     "text": [
      "24/02/01 22:07:39 WARN DAGScheduler: Broadcasting large task binary with size 1022.9 KiB\n",
      "24/02/01 22:07:40 WARN DAGScheduler: Broadcasting large task binary with size 1061.4 KiB\n",
      "24/02/01 22:07:41 WARN InstanceBuilder: Failed to load implementation from:dev.ludovic.netlib.blas.JNIBLAS\n",
      "24/02/01 22:07:41 WARN DAGScheduler: Broadcasting large task binary with size 1062.1 KiB\n",
      "24/02/01 22:07:41 WARN DAGScheduler: Broadcasting large task binary with size 1062.1 KiB\n",
      "24/02/01 22:07:41 WARN DAGScheduler: Broadcasting large task binary with size 1062.1 KiB\n",
      "24/02/01 22:07:41 WARN DAGScheduler: Broadcasting large task binary with size 1062.1 KiB\n",
      "24/02/01 22:07:41 WARN DAGScheduler: Broadcasting large task binary with size 1062.1 KiB\n",
      "24/02/01 22:07:42 WARN DAGScheduler: Broadcasting large task binary with size 1062.1 KiB\n",
      "24/02/01 22:07:42 WARN DAGScheduler: Broadcasting large task binary with size 1062.1 KiB\n",
      "24/02/01 22:07:42 WARN DAGScheduler: Broadcasting large task binary with size 1022.8 KiB\n",
      "24/02/01 22:07:43 WARN DAGScheduler: Broadcasting large task binary with size 1051.6 KiB\n",
      "24/02/01 22:07:44 WARN DAGScheduler: Broadcasting large task binary with size 1061.4 KiB\n",
      "24/02/01 22:07:44 WARN DAGScheduler: Broadcasting large task binary with size 1062.1 KiB\n",
      "24/02/01 22:07:44 WARN DAGScheduler: Broadcasting large task binary with size 1051.4 KiB\n",
      "24/02/01 22:07:45 WARN DAGScheduler: Broadcasting large task binary with size 1061.4 KiB\n",
      "24/02/01 22:07:45 WARN DAGScheduler: Broadcasting large task binary with size 1062.1 KiB\n",
      "24/02/01 22:07:45 WARN DAGScheduler: Broadcasting large task binary with size 1062.1 KiB\n",
      "24/02/01 22:07:45 WARN DAGScheduler: Broadcasting large task binary with size 1062.1 KiB\n",
      "24/02/01 22:07:45 WARN DAGScheduler: Broadcasting large task binary with size 1062.1 KiB\n",
      "24/02/01 22:07:45 WARN DAGScheduler: Broadcasting large task binary with size 1062.1 KiB\n",
      "24/02/01 22:07:45 WARN DAGScheduler: Broadcasting large task binary with size 1266.7 KiB\n",
      "24/02/01 22:07:46 WARN DAGScheduler: Broadcasting large task binary with size 1061.4 KiB\n",
      "24/02/01 22:07:46 WARN DAGScheduler: Broadcasting large task binary with size 1062.1 KiB\n",
      "24/02/01 22:07:46 WARN DAGScheduler: Broadcasting large task binary with size 1062.1 KiB\n",
      "24/02/01 22:07:46 WARN DAGScheduler: Broadcasting large task binary with size 1062.1 KiB\n",
      "24/02/01 22:07:46 WARN DAGScheduler: Broadcasting large task binary with size 1062.1 KiB\n",
      "24/02/01 22:07:46 WARN DAGScheduler: Broadcasting large task binary with size 1062.1 KiB\n",
      "24/02/01 22:07:46 WARN DAGScheduler: Broadcasting large task binary with size 1151.5 KiB\n",
      "24/02/01 22:07:47 WARN DAGScheduler: Broadcasting large task binary with size 1023.0 KiB\n",
      "24/02/01 22:07:48 WARN DAGScheduler: Broadcasting large task binary with size 1061.5 KiB\n",
      "24/02/01 22:07:48 WARN DAGScheduler: Broadcasting large task binary with size 1062.2 KiB\n",
      "24/02/01 22:07:48 WARN DAGScheduler: Broadcasting large task binary with size 1062.2 KiB\n",
      "24/02/01 22:07:48 WARN DAGScheduler: Broadcasting large task binary with size 1062.2 KiB\n",
      "24/02/01 22:07:48 WARN DAGScheduler: Broadcasting large task binary with size 1062.2 KiB\n",
      "24/02/01 22:07:48 WARN DAGScheduler: Broadcasting large task binary with size 1062.2 KiB\n",
      "24/02/01 22:07:48 WARN DAGScheduler: Broadcasting large task binary with size 1062.2 KiB\n",
      "24/02/01 22:07:48 WARN DAGScheduler: Broadcasting large task binary with size 1062.2 KiB\n",
      "24/02/01 22:07:49 WARN DAGScheduler: Broadcasting large task binary with size 1022.8 KiB\n",
      "24/02/01 22:07:49 WARN DAGScheduler: Broadcasting large task binary with size 1051.6 KiB\n",
      "24/02/01 22:07:50 WARN DAGScheduler: Broadcasting large task binary with size 1061.5 KiB\n",
      "24/02/01 22:07:50 WARN DAGScheduler: Broadcasting large task binary with size 1062.2 KiB\n",
      "24/02/01 22:07:50 WARN DAGScheduler: Broadcasting large task binary with size 1051.4 KiB\n",
      "24/02/01 22:07:50 WARN DAGScheduler: Broadcasting large task binary with size 1061.5 KiB\n",
      "24/02/01 22:07:50 WARN DAGScheduler: Broadcasting large task binary with size 1062.2 KiB\n",
      "24/02/01 22:07:50 WARN DAGScheduler: Broadcasting large task binary with size 1062.2 KiB\n",
      "24/02/01 22:07:50 WARN DAGScheduler: Broadcasting large task binary with size 1062.2 KiB\n",
      "24/02/01 22:07:50 WARN DAGScheduler: Broadcasting large task binary with size 1062.2 KiB\n",
      "24/02/01 22:07:50 WARN DAGScheduler: Broadcasting large task binary with size 1062.2 KiB\n",
      "24/02/01 22:07:51 WARN DAGScheduler: Broadcasting large task binary with size 1270.8 KiB\n",
      "24/02/01 22:07:51 WARN DAGScheduler: Broadcasting large task binary with size 1061.5 KiB\n",
      "24/02/01 22:07:51 WARN DAGScheduler: Broadcasting large task binary with size 1062.2 KiB\n",
      "24/02/01 22:07:51 WARN DAGScheduler: Broadcasting large task binary with size 1062.2 KiB\n",
      "24/02/01 22:07:51 WARN DAGScheduler: Broadcasting large task binary with size 1062.2 KiB\n",
      "24/02/01 22:07:51 WARN DAGScheduler: Broadcasting large task binary with size 1062.2 KiB\n",
      "24/02/01 22:07:51 WARN DAGScheduler: Broadcasting large task binary with size 1062.2 KiB\n",
      "24/02/01 22:07:52 WARN DAGScheduler: Broadcasting large task binary with size 1150.9 KiB\n",
      "24/02/01 22:07:52 WARN DAGScheduler: Broadcasting large task binary with size 1023.0 KiB\n",
      "24/02/01 22:07:53 WARN DAGScheduler: Broadcasting large task binary with size 1061.6 KiB\n",
      "24/02/01 22:07:53 WARN DAGScheduler: Broadcasting large task binary with size 1062.3 KiB\n",
      "24/02/01 22:07:53 WARN DAGScheduler: Broadcasting large task binary with size 1062.3 KiB\n",
      "24/02/01 22:07:53 WARN DAGScheduler: Broadcasting large task binary with size 1062.3 KiB\n",
      "24/02/01 22:07:53 WARN DAGScheduler: Broadcasting large task binary with size 1062.3 KiB\n",
      "24/02/01 22:07:53 WARN DAGScheduler: Broadcasting large task binary with size 1062.3 KiB\n",
      "24/02/01 22:07:53 WARN DAGScheduler: Broadcasting large task binary with size 1062.3 KiB\n",
      "24/02/01 22:07:53 WARN DAGScheduler: Broadcasting large task binary with size 1062.3 KiB\n",
      "24/02/01 22:07:54 WARN DAGScheduler: Broadcasting large task binary with size 1022.8 KiB\n",
      "24/02/01 22:07:54 WARN DAGScheduler: Broadcasting large task binary with size 1051.7 KiB\n",
      "24/02/01 22:07:54 WARN DAGScheduler: Broadcasting large task binary with size 1061.6 KiB\n",
      "24/02/01 22:07:55 WARN DAGScheduler: Broadcasting large task binary with size 1062.3 KiB\n",
      "24/02/01 22:07:55 WARN DAGScheduler: Broadcasting large task binary with size 1051.4 KiB\n",
      "24/02/01 22:07:55 WARN DAGScheduler: Broadcasting large task binary with size 1061.6 KiB\n",
      "24/02/01 22:07:55 WARN DAGScheduler: Broadcasting large task binary with size 1062.2 KiB\n",
      "24/02/01 22:07:55 WARN DAGScheduler: Broadcasting large task binary with size 1062.2 KiB\n",
      "24/02/01 22:07:55 WARN DAGScheduler: Broadcasting large task binary with size 1062.2 KiB\n",
      "24/02/01 22:07:55 WARN DAGScheduler: Broadcasting large task binary with size 1062.2 KiB\n",
      "24/02/01 22:07:55 WARN DAGScheduler: Broadcasting large task binary with size 1062.2 KiB\n",
      "24/02/01 22:07:56 WARN DAGScheduler: Broadcasting large task binary with size 1266.5 KiB\n",
      "24/02/01 22:07:56 WARN DAGScheduler: Broadcasting large task binary with size 1061.6 KiB\n",
      "24/02/01 22:07:56 WARN DAGScheduler: Broadcasting large task binary with size 1062.2 KiB\n",
      "24/02/01 22:07:56 WARN DAGScheduler: Broadcasting large task binary with size 1062.2 KiB\n",
      "24/02/01 22:07:56 WARN DAGScheduler: Broadcasting large task binary with size 1062.2 KiB\n",
      "24/02/01 22:07:56 WARN DAGScheduler: Broadcasting large task binary with size 1062.2 KiB\n",
      "24/02/01 22:07:56 WARN DAGScheduler: Broadcasting large task binary with size 1062.2 KiB\n",
      "24/02/01 22:07:56 WARN DAGScheduler: Broadcasting large task binary with size 1149.2 KiB\n",
      "24/02/01 22:07:57 WARN DAGScheduler: Broadcasting large task binary with size 1023.0 KiB\n",
      "24/02/01 22:07:58 WARN DAGScheduler: Broadcasting large task binary with size 1061.5 KiB\n",
      "24/02/01 22:07:58 WARN DAGScheduler: Broadcasting large task binary with size 1062.2 KiB\n",
      "24/02/01 22:07:58 WARN DAGScheduler: Broadcasting large task binary with size 1062.2 KiB\n",
      "24/02/01 22:07:58 WARN DAGScheduler: Broadcasting large task binary with size 1062.2 KiB\n",
      "24/02/01 22:07:58 WARN DAGScheduler: Broadcasting large task binary with size 1062.2 KiB\n",
      "24/02/01 22:07:58 WARN DAGScheduler: Broadcasting large task binary with size 1062.2 KiB\n",
      "24/02/01 22:07:58 WARN DAGScheduler: Broadcasting large task binary with size 1062.2 KiB\n",
      "24/02/01 22:07:58 WARN DAGScheduler: Broadcasting large task binary with size 1062.2 KiB\n",
      "24/02/01 22:07:58 WARN DAGScheduler: Broadcasting large task binary with size 1022.8 KiB\n",
      "24/02/01 22:07:59 WARN DAGScheduler: Broadcasting large task binary with size 1051.7 KiB\n",
      "24/02/01 22:07:59 WARN DAGScheduler: Broadcasting large task binary with size 1061.5 KiB\n",
      "24/02/01 22:07:59 WARN DAGScheduler: Broadcasting large task binary with size 1062.2 KiB\n",
      "24/02/01 22:07:59 WARN DAGScheduler: Broadcasting large task binary with size 1051.4 KiB\n",
      "24/02/01 22:08:00 WARN DAGScheduler: Broadcasting large task binary with size 1061.5 KiB\n",
      "24/02/01 22:08:00 WARN DAGScheduler: Broadcasting large task binary with size 1062.2 KiB\n",
      "24/02/01 22:08:00 WARN DAGScheduler: Broadcasting large task binary with size 1062.2 KiB\n",
      "24/02/01 22:08:00 WARN DAGScheduler: Broadcasting large task binary with size 1062.2 KiB\n",
      "24/02/01 22:08:00 WARN DAGScheduler: Broadcasting large task binary with size 1062.2 KiB\n",
      "24/02/01 22:08:00 WARN DAGScheduler: Broadcasting large task binary with size 1062.2 KiB\n",
      "24/02/01 22:08:00 WARN DAGScheduler: Broadcasting large task binary with size 1267.4 KiB\n",
      "24/02/01 22:08:01 WARN DAGScheduler: Broadcasting large task binary with size 1061.5 KiB\n",
      "24/02/01 22:08:01 WARN DAGScheduler: Broadcasting large task binary with size 1062.2 KiB\n",
      "24/02/01 22:08:01 WARN DAGScheduler: Broadcasting large task binary with size 1062.2 KiB\n",
      "24/02/01 22:08:01 WARN DAGScheduler: Broadcasting large task binary with size 1062.2 KiB\n",
      "24/02/01 22:08:01 WARN DAGScheduler: Broadcasting large task binary with size 1062.2 KiB\n",
      "24/02/01 22:08:01 WARN DAGScheduler: Broadcasting large task binary with size 1062.2 KiB\n",
      "24/02/01 22:08:01 WARN DAGScheduler: Broadcasting large task binary with size 1150.3 KiB\n",
      "24/02/01 22:08:01 WARN DAGScheduler: Broadcasting large task binary with size 1022.9 KiB\n",
      "24/02/01 22:08:02 WARN DAGScheduler: Broadcasting large task binary with size 1061.5 KiB\n",
      "24/02/01 22:08:02 WARN DAGScheduler: Broadcasting large task binary with size 1062.2 KiB\n",
      "24/02/01 22:08:02 WARN DAGScheduler: Broadcasting large task binary with size 1062.2 KiB\n",
      "24/02/01 22:08:02 WARN DAGScheduler: Broadcasting large task binary with size 1062.2 KiB\n",
      "24/02/01 22:08:02 WARN DAGScheduler: Broadcasting large task binary with size 1062.2 KiB\n",
      "24/02/01 22:08:02 WARN DAGScheduler: Broadcasting large task binary with size 1062.2 KiB\n",
      "24/02/01 22:08:02 WARN DAGScheduler: Broadcasting large task binary with size 1062.2 KiB\n",
      "24/02/01 22:08:03 WARN DAGScheduler: Broadcasting large task binary with size 1062.2 KiB\n",
      "24/02/01 22:08:03 WARN DAGScheduler: Broadcasting large task binary with size 1022.8 KiB\n",
      "24/02/01 22:08:04 WARN DAGScheduler: Broadcasting large task binary with size 1051.6 KiB\n",
      "24/02/01 22:08:04 WARN DAGScheduler: Broadcasting large task binary with size 1061.5 KiB\n",
      "24/02/01 22:08:04 WARN DAGScheduler: Broadcasting large task binary with size 1062.2 KiB\n",
      "24/02/01 22:08:04 WARN DAGScheduler: Broadcasting large task binary with size 1051.4 KiB\n",
      "24/02/01 22:08:04 WARN DAGScheduler: Broadcasting large task binary with size 1061.5 KiB\n",
      "24/02/01 22:08:04 WARN DAGScheduler: Broadcasting large task binary with size 1062.2 KiB\n",
      "24/02/01 22:08:04 WARN DAGScheduler: Broadcasting large task binary with size 1062.2 KiB\n",
      "24/02/01 22:08:04 WARN DAGScheduler: Broadcasting large task binary with size 1062.2 KiB\n",
      "24/02/01 22:08:04 WARN DAGScheduler: Broadcasting large task binary with size 1062.2 KiB\n",
      "24/02/01 22:08:05 WARN DAGScheduler: Broadcasting large task binary with size 1062.2 KiB\n",
      "24/02/01 22:08:05 WARN DAGScheduler: Broadcasting large task binary with size 1259.6 KiB\n",
      "24/02/01 22:08:05 WARN DAGScheduler: Broadcasting large task binary with size 1061.5 KiB\n",
      "24/02/01 22:08:05 WARN DAGScheduler: Broadcasting large task binary with size 1062.2 KiB\n",
      "24/02/01 22:08:05 WARN DAGScheduler: Broadcasting large task binary with size 1062.2 KiB\n",
      "24/02/01 22:08:05 WARN DAGScheduler: Broadcasting large task binary with size 1062.2 KiB\n",
      "24/02/01 22:08:05 WARN DAGScheduler: Broadcasting large task binary with size 1062.2 KiB\n",
      "24/02/01 22:08:05 WARN DAGScheduler: Broadcasting large task binary with size 1062.2 KiB\n",
      "24/02/01 22:08:06 WARN DAGScheduler: Broadcasting large task binary with size 1149.6 KiB\n",
      "24/02/01 22:08:06 WARN DAGScheduler: Broadcasting large task binary with size 1046.6 KiB\n",
      "24/02/01 22:08:07 WARN DAGScheduler: Broadcasting large task binary with size 1047.3 KiB\n",
      "24/02/01 22:08:07 WARN DAGScheduler: Broadcasting large task binary with size 1047.3 KiB\n",
      "24/02/01 22:08:08 WARN DAGScheduler: Broadcasting large task binary with size 1047.3 KiB\n",
      "24/02/01 22:08:08 WARN DAGScheduler: Broadcasting large task binary with size 1047.3 KiB\n",
      "24/02/01 22:08:08 WARN DAGScheduler: Broadcasting large task binary with size 1047.3 KiB\n"
     ]
    },
    {
     "name": "stdout",
     "output_type": "stream",
     "text": [
      "['label', 'features', 'rawPrediction', 'probability', 'prediction']\n"
     ]
    }
   ],
   "source": [
    "from pyspark.ml.classification import LogisticRegression\n",
    "from pyspark.ml.evaluation import BinaryClassificationEvaluator\n",
    "from pyspark.ml.tuning import CrossValidator, ParamGridBuilder\n",
    "import numpy as np\n",
    "\n",
    "lr = LogisticRegression(maxIter = 3)\n",
    "\n",
    "regParamValues = np.linspace(0.3, 0.01, 2)\n",
    "print(regParamValues)\n",
    "elasticNetParamValues = np.linspace(0.3, 0.8, 2)\n",
    "print(elasticNetParamValues)\n",
    "\n",
    "paramGr_LR = ParamGridBuilder().addGrid(lr.regParam, regParamValues)\\\n",
    "  .addGrid(lr.elasticNetParam, elasticNetParamValues)\\\n",
    "  .build()\n",
    "\n",
    "crossValid_LR = CrossValidator(estimator=lr, estimatorParamMaps=paramGr_LR, evaluator=BinaryClassificationEvaluator(), numFolds=5)\n",
    "cvModel = crossValid_LR.fit(trainDF)\n",
    "best_model_lr = cvModel.bestModel.summary\n",
    "print(best_model_lr.predictions.columns)"
   ]
  },
  {
   "cell_type": "code",
   "execution_count": 13,
   "metadata": {},
   "outputs": [
    {
     "name": "stderr",
     "output_type": "stream",
     "text": [
      "24/02/01 22:08:13 WARN DAGScheduler: Broadcasting large task binary with size 1129.1 KiB\n"
     ]
    },
    {
     "name": "stdout",
     "output_type": "stream",
     "text": [
      "0.8831818181818182\n"
     ]
    },
    {
     "name": "stderr",
     "output_type": "stream",
     "text": [
      "                                                                                \r"
     ]
    }
   ],
   "source": [
    "my_eval_lr = BinaryClassificationEvaluator(rawPredictionCol='prediction', labelCol='label', metricName='areaUnderROC')\n",
    "areaUnderROC = my_eval_lr.evaluate(best_model_lr.predictions)\n",
    "print(areaUnderROC)"
   ]
  },
  {
   "cell_type": "code",
   "execution_count": 14,
   "metadata": {},
   "outputs": [
    {
     "name": "stderr",
     "output_type": "stream",
     "text": [
      "24/02/01 22:08:24 WARN DAGScheduler: Broadcasting large task binary with size 1139.4 KiB\n",
      "[Stage 380:===================>                                     (1 + 2) / 3]\r"
     ]
    },
    {
     "name": "stdout",
     "output_type": "stream",
     "text": [
      "+-----+----------+-----+\n",
      "|label|prediction|count|\n",
      "+-----+----------+-----+\n",
      "|  1.0|       1.0|  843|\n",
      "|  1.0|       0.0|  257|\n",
      "|  0.0|       0.0| 3480|\n",
      "+-----+----------+-----+\n",
      "\n"
     ]
    },
    {
     "name": "stderr",
     "output_type": "stream",
     "text": [
      "24/02/01 22:08:25 WARN DAGScheduler: Broadcasting large task binary with size 1124.3 KiB\n",
      "                                                                                \r"
     ]
    }
   ],
   "source": [
    "train_fit_lr = best_model_lr.predictions.select('label','prediction')\n",
    "train_fit_lr.groupBy('label', 'prediction').count().show()"
   ]
  }
 ],
 "metadata": {
  "kernelspec": {
   "display_name": "Python 3",
   "language": "python",
   "name": "python3"
  },
  "language_info": {
   "codemirror_mode": {
    "name": "ipython",
    "version": 3
   },
   "file_extension": ".py",
   "mimetype": "text/x-python",
   "name": "python",
   "nbconvert_exporter": "python",
   "pygments_lexer": "ipython3",
   "version": "3.10.12"
  }
 },
 "nbformat": 4,
 "nbformat_minor": 2
}
