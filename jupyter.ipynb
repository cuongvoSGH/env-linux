{
 "cells": [
  {
   "cell_type": "code",
   "execution_count": 1,
   "metadata": {},
   "outputs": [
    {
     "name": "stdout",
     "output_type": "stream",
     "text": [
      "0.003 seconds elapsed for naive method and n= 10000\n",
      "pi is roughly 3.1312\n"
     ]
    }
   ],
   "source": [
    "import numpy as np\n",
    "from time import time\n",
    "from random import random\n",
    "\n",
    "inside = 0\n",
    "n = 10000\n",
    "\n",
    "t_0 = time()\n",
    "for i in range(n):\n",
    "    x, y = random(), random()\n",
    "    if x**2 + y**2 < 1:\n",
    "        inside += 1\n",
    "print(np.round(time()-t_0, 3), \"seconds elapsed for naive method and n=\", n)\n",
    "print(\"pi is roughly\", inside/n*4)"
   ]
  },
  {
   "cell_type": "code",
   "execution_count": 4,
   "metadata": {},
   "outputs": [
    {
     "name": "stderr",
     "output_type": "stream",
     "text": [
      "                                                                                \r"
     ]
    },
    {
     "name": "stdout",
     "output_type": "stream",
     "text": [
      "0.789 seconds elapsed for spark approach and n= 10000\n",
      "Pi is roughly 3.164800\n"
     ]
    }
   ],
   "source": [
    "from time import time\n",
    "import numpy as np\n",
    "from random import random\n",
    "from operator import add\n",
    "\n",
    "from pyspark.sql import SparkSession\n",
    "\n",
    "spark = SparkSession.builder.appName('CalculatePi').getOrCreate()\n",
    "sc = spark.sparkContext\n",
    "\n",
    "n = 10000\n",
    "\n",
    "def is_point_inside_unit_circle(p):\n",
    "    # p is useless here\n",
    "    x, y = random(), random()\n",
    "    return 1 if x*x + y*y < 1 else 0\n",
    "\n",
    "t_0 = time()\n",
    "\n",
    "# parallelize creates a spark Resilient Distributed Dataset (RDD)\n",
    "# its values are useless in this case\n",
    "# but allows us to distribute our calculation (inside function)\n",
    "count = sc.parallelize(range(0, n)) \\\n",
    "             .map(is_point_inside_unit_circle).reduce(add)\n",
    "print(np.round(time()-t_0, 3), \"seconds elapsed for spark approach and n=\", n)\n",
    "print(\"Pi is roughly %f\" % (4.0 * count / n))\n",
    "\n",
    "# VERY important to stop SparkSession\n",
    "# Otherwise, the job will keep running indefinitely\n",
    "spark.stop()"
   ]
  }
 ],
 "metadata": {
  "kernelspec": {
   "display_name": "Python 3",
   "language": "python",
   "name": "python3"
  },
  "language_info": {
   "codemirror_mode": {
    "name": "ipython",
    "version": 3
   },
   "file_extension": ".py",
   "mimetype": "text/x-python",
   "name": "python",
   "nbconvert_exporter": "python",
   "pygments_lexer": "ipython3",
   "version": "3.10.12"
  }
 },
 "nbformat": 4,
 "nbformat_minor": 2
}
