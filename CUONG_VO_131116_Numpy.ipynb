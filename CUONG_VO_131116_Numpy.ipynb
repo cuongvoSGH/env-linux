{
 "cells": [
  {
   "cell_type": "code",
   "execution_count": 1,
   "metadata": {},
   "outputs": [],
   "source": [
    "import numpy as np"
   ]
  },
  {
   "cell_type": "code",
   "execution_count": 6,
   "metadata": {},
   "outputs": [
    {
     "data": {
      "text/plain": [
       "array([[1, 2],\n",
       "       [3, 4]])"
      ]
     },
     "execution_count": 6,
     "metadata": {},
     "output_type": "execute_result"
    }
   ],
   "source": [
    "# 1. Compute the multiplication of the following matrices:\n",
    "#[[1, 0], [0, 1]]\n",
    "#[[1, 2], [3, 4]]\n",
    "\n",
    "matrix_1 = np.array([[1, 0], [0, 1]])\n",
    "matrix_2 = np.array([[1, 2], [3, 4]])\n",
    "\n",
    "np.dot(matrix_1,matrix_2)\n"
   ]
  },
  {
   "cell_type": "code",
   "execution_count": 11,
   "metadata": {},
   "outputs": [
    {
     "data": {
      "text/plain": [
       "array([1, 2, 3, 1, 2, 3, 1, 2, 3, 1, 2, 3])"
      ]
     },
     "execution_count": 11,
     "metadata": {},
     "output_type": "execute_result"
    }
   ],
   "source": [
    "# 2. Generate an array of length 3n filled with the cyclic pattern 1, 2, 3.\n",
    "n = 4\n",
    "\n",
    "cyclic_array = np.array([1, 2, 3] * n)\n",
    "\n",
    "cyclic_array"
   ]
  },
  {
   "cell_type": "code",
   "execution_count": 37,
   "metadata": {},
   "outputs": [
    {
     "data": {
      "text/plain": [
       "array([[1, 1, 1, 1, 1, 1, 1, 1, 1, 1, 1, 1],\n",
       "       [1, 0, 0, 0, 0, 0, 0, 0, 0, 0, 0, 1],\n",
       "       [1, 0, 0, 0, 0, 0, 0, 0, 0, 0, 0, 1],\n",
       "       [1, 0, 0, 0, 0, 0, 0, 0, 0, 0, 0, 1],\n",
       "       [1, 0, 0, 0, 0, 0, 0, 0, 0, 0, 0, 1],\n",
       "       [1, 0, 0, 0, 0, 0, 0, 0, 0, 0, 0, 1],\n",
       "       [1, 0, 0, 0, 0, 0, 0, 0, 0, 0, 0, 1],\n",
       "       [1, 0, 0, 0, 0, 0, 0, 0, 0, 0, 0, 1],\n",
       "       [1, 0, 0, 0, 0, 0, 0, 0, 0, 0, 0, 1],\n",
       "       [1, 0, 0, 0, 0, 0, 0, 0, 0, 0, 0, 1],\n",
       "       [1, 0, 0, 0, 0, 0, 0, 0, 0, 0, 0, 1],\n",
       "       [1, 1, 1, 1, 1, 1, 1, 1, 1, 1, 1, 1]])"
      ]
     },
     "execution_count": 37,
     "metadata": {},
     "output_type": "execute_result"
    }
   ],
   "source": [
    "# 3. Create a 10×10 matrix of zeros and then \"frame\" it with a border of ones.\n",
    "\n",
    "zero_matrix = np.array([[0] * 10]*10)\n",
    "add_row = np.array([1] * 10)\n",
    "add_col = np.array([1] * 12)\n",
    "\n",
    "zero_matrix = np.insert(zero_matrix, zero_matrix.shape[0], add_row, axis=0)\n",
    "zero_matrix = np.insert(zero_matrix, 0, add_row, axis=0)\n",
    "\n",
    "zero_matrix = np.insert(zero_matrix, 0, add_col, axis=1)\n",
    "zero_matrix = np.insert(zero_matrix, zero_matrix.shape[1], add_col, axis=1)\n",
    "\n",
    "zero_matrix"
   ]
  },
  {
   "cell_type": "code",
   "execution_count": 85,
   "metadata": {},
   "outputs": [
    {
     "name": "stdout",
     "output_type": "stream",
     "text": [
      "Sum columns: [1.5862685  0.71505227 1.86591078 1.81006591 1.8441482 ]\n",
      "Sum row: [3.00142399 0.96922886 3.8507928 ]\n",
      "Sum matrix: 7.8214456449666\n"
     ]
    }
   ],
   "source": [
    "# 4. Create a random 3×5 array using the np.random.rand(3, 5) function and compute: the sum of all the entries, the sum of the rows and the sum of the columns. \n",
    "#(many Numpy functions have an optional axis= argument!)\n",
    "\n",
    "matrix_3 = np.random.rand(3,5)\n",
    "print(f'Sum columns: {np.sum(matrix_3, axis=0)}')\n",
    "print(f'Sum row: {np.sum(matrix_3, axis=1)}')\n",
    "print(f'Sum matrix: {np.sum(matrix_3)}')"
   ]
  },
  {
   "cell_type": "code",
   "execution_count": 60,
   "metadata": {},
   "outputs": [
    {
     "name": "stdout",
     "output_type": "stream",
     "text": [
      "AND Matrix: [ True False False False]\n",
      "OR Matrix: [ True  True  True False]\n"
     ]
    }
   ],
   "source": [
    "# 5. Given the following arrays representing logical values (0 = False, 1 = True) \n",
    "# compute the logical AND and logical OR operations for every pair of values of the two arrays: [1, 1, 0, 0] [1, 0, 1, 0] \n",
    "# Hint: you may need to set the data type (dtype) of the array's elements to 'bool'\n",
    "\n",
    "matrix_4 = np.array([1, 1, 0, 0])\n",
    "matrix_5 = np.array([1, 0, 1, 0])\n",
    "and_matrix = np.logical_and(matrix_4, matrix_5, dtype='bool')\n",
    "or_matrix = np.logical_or(matrix_4, matrix_5, dtype='bool')\n",
    "print(f'AND Matrix: {and_matrix}')\n",
    "print(f'OR Matrix: {or_matrix}')"
   ]
  },
  {
   "cell_type": "code",
   "execution_count": 64,
   "metadata": {},
   "outputs": [
    {
     "name": "stdout",
     "output_type": "stream",
     "text": [
      "Non Zero indice: (array([0, 1, 4]),)\n"
     ]
    }
   ],
   "source": [
    "# 6. Find indices of non-zero elements from [1, 2, 0, 0, 4, 0]\n",
    "\n",
    "matrix_6 = np.array([1, 2, 0, 0, 4, 0])\n",
    "\n",
    "print(f'Non Zero indice: {np.nonzero(matrix_6)}')"
   ]
  },
  {
   "cell_type": "code",
   "execution_count": 73,
   "metadata": {},
   "outputs": [
    {
     "name": "stdout",
     "output_type": "stream",
     "text": [
      "Max value: 0.9940368946592678\n",
      "Min value: 0.023158924993278207\n"
     ]
    }
   ],
   "source": [
    "# 7. Create a 8×8 array with random values and find minimum and maximum value\n",
    "\n",
    "matrix_7 = np.random.rand(8,8)\n",
    "print(f'Max value: {np.max(matrix_7)}')\n",
    "print(f'Min value: {np.min(matrix_7)}')"
   ]
  },
  {
   "cell_type": "code",
   "execution_count": 84,
   "metadata": {},
   "outputs": [
    {
     "data": {
      "text/plain": [
       "array([[88,  0,  0,  0,  0,  0,  0,  0],\n",
       "       [ 0, 11,  0,  0,  0,  0,  0,  0],\n",
       "       [ 0,  0, 37,  0,  0,  0,  0,  0],\n",
       "       [ 0,  0,  0, 17,  0,  0,  0,  0],\n",
       "       [ 0,  0,  0,  0, 22,  0,  0,  0],\n",
       "       [ 0,  0,  0,  0,  0,  8,  0,  0],\n",
       "       [ 0,  0,  0,  0,  0,  0, 39,  0],\n",
       "       [ 0,  0,  0,  0,  0,  0,  0, 19]])"
      ]
     },
     "execution_count": 84,
     "metadata": {},
     "output_type": "execute_result"
    }
   ],
   "source": [
    "# 8. Create a 8×8 array with random natural values from the range (1-100) on the diagonal, other values should be 0. \n",
    "# Hint: You can use numpy's 'eye' function.\n",
    "\n",
    "matrix_8 = np.random.randint(1, 101, size = (8,8))\n",
    "map_matrix = np.eye(8, dtype='int')\n",
    "\n",
    "matrix_8 * map_matrix"
   ]
  },
  {
   "cell_type": "code",
   "execution_count": 90,
   "metadata": {},
   "outputs": [
    {
     "data": {
      "text/plain": [
       "array([[ 0,  1,  2,  3,  4,  5,  6,  7],\n",
       "       [ 1,  2,  3,  4,  5,  6,  7,  8],\n",
       "       [ 2,  3,  4,  5,  6,  7,  8,  9],\n",
       "       [ 3,  4,  5,  6,  7,  8,  9, 10],\n",
       "       [ 4,  5,  6,  7,  8,  9, 10, 11],\n",
       "       [ 5,  6,  7,  8,  9, 10, 11, 12],\n",
       "       [ 6,  7,  8,  9, 10, 11, 12, 13],\n",
       "       [ 7,  8,  9, 10, 11, 12, 13, 14]])"
      ]
     },
     "execution_count": 90,
     "metadata": {},
     "output_type": "execute_result"
    }
   ],
   "source": [
    "# 9. Write a function which creates an n×n matrix with (i,j)-entry equal to i+j.\n",
    "\n",
    "n = 8\n",
    "matrix_9 = np.zeros((n,n), dtype='int')\n",
    "\n",
    "def matrix_func(n, matrix):\n",
    "    for i in range(n):\n",
    "        for j in range(n):\n",
    "            matrix[i,j] = i + j\n",
    "    return matrix\n",
    "\n",
    "matrix_func(n, matrix_9)\n"
   ]
  },
  {
   "cell_type": "code",
   "execution_count": 95,
   "metadata": {},
   "outputs": [
    {
     "data": {
      "text/plain": [
       "array([[ 0,  1,  2,  3,  4],\n",
       "       [ 0,  2,  4,  6,  8],\n",
       "       [ 0,  3,  6,  9, 12],\n",
       "       [ 0,  4,  8, 12, 16],\n",
       "       [ 0,  5, 10, 15, 20]])"
      ]
     },
     "execution_count": 95,
     "metadata": {},
     "output_type": "execute_result"
    }
   ],
   "source": [
    "# 10.  Write a function which creates an n×n matrix with rows having subsequent values multiplied by the row's number. For example for n = 4:\n",
    "# [[0, 1, 2, 3], [0, 2, 4, 6], [0, 3, 6, 9], [0, 4, 8, 12]]\n",
    "\n",
    "n = 5\n",
    "matrix_10 = np.zeros((n,n), dtype='int')\n",
    "\n",
    "def subsequent_matrix(n, matrix):\n",
    "    for i in range(n):\n",
    "        for j in range(1,n):\n",
    "            matrix[i,j] = matrix[i,j-1] + i + 1\n",
    "    return matrix\n",
    "\n",
    "subsequent_matrix(n, matrix_10)\n"
   ]
  }
 ],
 "metadata": {
  "kernelspec": {
   "display_name": "Python 3",
   "language": "python",
   "name": "python3"
  },
  "language_info": {
   "codemirror_mode": {
    "name": "ipython",
    "version": 3
   },
   "file_extension": ".py",
   "mimetype": "text/x-python",
   "name": "python",
   "nbconvert_exporter": "python",
   "pygments_lexer": "ipython3",
   "version": "3.10.12"
  }
 },
 "nbformat": 4,
 "nbformat_minor": 2
}
